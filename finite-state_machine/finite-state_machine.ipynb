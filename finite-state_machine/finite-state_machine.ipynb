{
 "cells": [
  {
   "cell_type": "markdown",
   "metadata": {
    "id": "e8EszD6-4Gf5"
   },
   "source": [
    "# **Необходимо написать программу, которая принимает на вход регулярное выражение и строит по нему детерминированный конечный автомат. Далее на вход программе подается строка. Полученный конечный автомат должен определить, подходит ли введенная строка под заданное ранее регулярное выражение.**"
   ]
  },
  {
   "cell_type": "code",
   "execution_count": 1,
   "metadata": {
    "colab": {
     "base_uri": "https://localhost:8080/"
    },
    "id": "W-UeNPiFJm3-",
    "outputId": "2302408d-afac-4ab9-99ec-e49eed1c47b6"
   },
   "outputs": [
    {
     "name": "stdout",
     "output_type": "stream",
     "text": [
      "Reading package lists... Done\n",
      "Building dependency tree       \n",
      "Reading state information... Done\n",
      "Note, selecting 'python-dev-is-python2' instead of 'python-dev'\n",
      "pkg-config is already the newest version (0.29.1-0ubuntu4).\n",
      "graphviz is already the newest version (2.42.2-3build2).\n",
      "libgraphviz-dev is already the newest version (2.42.2-3build2).\n",
      "python-dev-is-python2 is already the newest version (2.7.17-4).\n",
      "0 upgraded, 0 newly installed, 0 to remove and 15 not upgraded.\n"
     ]
    }
   ],
   "source": [
    "!sudo apt-get install python-dev graphviz libgraphviz-dev pkg-config"
   ]
  },
  {
   "cell_type": "code",
   "execution_count": 2,
   "metadata": {
    "colab": {
     "base_uri": "https://localhost:8080/"
    },
    "id": "4BMnvMcaJfIt",
    "outputId": "e639d670-5277-4735-cd76-c02ce5d3f363"
   },
   "outputs": [
    {
     "name": "stdout",
     "output_type": "stream",
     "text": [
      "Looking in indexes: https://pypi.org/simple, https://us-python.pkg.dev/colab-wheels/public/simple/\n",
      "Requirement already satisfied: pygraphviz in /usr/local/lib/python3.10/dist-packages (1.11)\n"
     ]
    }
   ],
   "source": [
    "!pip install pygraphviz"
   ]
  },
  {
   "cell_type": "code",
   "execution_count": 3,
   "metadata": {
    "id": "vNqVRsrxJcUX"
   },
   "outputs": [],
   "source": [
    "import pygraphviz as pgv\n",
    "from IPython.display import Image, display\n",
    "import re\n",
    "import numpy as np\n",
    "from PIL import Image\n",
    "from typing import Dict, List, Tuple\n",
    "from typing import Dict, List, Set\n",
    "import copy"
   ]
  },
  {
   "cell_type": "code",
   "execution_count": 4,
   "metadata": {
    "id": "V5fZ2VSqp4k6"
   },
   "outputs": [],
   "source": [
    "# Определяем типы состояний для NDFA\n",
    "data_NDFA = Dict[str, List[List[int]]]\n",
    "# Определяем типы состояний для DFA (используется в качестве прокси-объекта для NDFA)\n",
    "data_DFA = Dict[str, List[int]]"
   ]
  },
  {
   "cell_type": "code",
   "execution_count": 5,
   "metadata": {
    "id": "ITfD_SyPp2mz"
   },
   "outputs": [],
   "source": [
    "# Определяем кастомное исключение для случая, когда NDFA не может принять символ входной строки\n",
    "class char_accept(Exception):\n",
    "    pass"
   ]
  },
  {
   "cell_type": "code",
   "execution_count": 6,
   "metadata": {
    "id": "FnTd6smKuH-U"
   },
   "outputs": [],
   "source": [
    "# Класс NDFA реализует недетерминированный конечный автомат\n",
    "class NDFA():\n",
    "    def __init__(self, table: data_NDFA, last_states: List[int]):\n",
    "        self.table = table           # таблица состояний, символов перехода и новых состояний\n",
    "        self.last_states = last_states  # список финальных состояний\n",
    "\n",
    "        self.states = None   # текущие состояния автомата\n",
    "\n",
    "    # Выполняем переход из стартового состояния start в конечное состояние finish по символу char\n",
    "    def transition(self, start, char, finish):\n",
    "        if char not in self.table:\n",
    "            self.table[char] = [[] for _ in range(self.all_states())]\n",
    "        self.table[char][start].append(finish)\n",
    "\n",
    "    # Получаем следующее состояние, которое будет получено, если применить символ char к состоянию state\n",
    "    # Выполняем проверку наличия символа в таблице состояний\n",
    "    def get_next_state(self, state: int, char: str) -> List[int]:\n",
    "        if char not in self.table:\n",
    "            raise char_accept\n",
    "        return self.table[char][state]\n",
    "\n",
    "    # Получаем список новых состояний, которые будут получены при применении символа char к состоянию previous_state\n",
    "    # Выполнение замыкания \"ε\" происходит по формуле: close_eps = найти все epsilon-переходы из выходных состояний предыдущего шага (sum([self.close_eps(s) for s in new_state], []) )\n",
    "    def get_states_after_transition(self, previous_state, char: str):\n",
    "        new_state = set()\n",
    "        for state in previous_state:\n",
    "            new_state.update(self.get_next_state(state, char))\n",
    "            if 'ε' in self.table.keys():\n",
    "                new_state.update(sum([self.close_eps(s) for s in new_state], []))\n",
    "        return list(new_state)\n",
    "\n",
    "    # Находим замыкание \"ε\" состояния state (выполняем обход по графу из состояния state и находим все состояния, которые можно достичь только по \"ε\"-переходам)\n",
    "    def close_eps(self, state: int) -> List[int]:\n",
    "        if 'ε' not in self.table.keys():\n",
    "            return [state]\n",
    "        visited = []\n",
    "        current = [state]\n",
    "        while len(current) != 0:\n",
    "            new_current = []\n",
    "            for s in current:\n",
    "                new_current.extend(self.table['ε'][s])\n",
    "            visited = list(set(visited + current))\n",
    "            current = list(set(new_current).difference(visited))\n",
    "        return visited\n",
    "\n",
    "    '''\n",
    "    - Проверяем, может ли автомат принять входную строку input_str\n",
    "    - Начальным состоянием автомата всегда является нулевое состояние\n",
    "    - Выполняем замыкание \"ε\" для нулевого состояния\n",
    "    - Применяем последовательно каждый символ входной строки и вычисляем новые состояния автомата\n",
    "    - Находим пересечение всех текущих состояний и финальных состояний, и если есть хотя бы одно пересечение, то возвращаем True, иначе False\n",
    "    '''\n",
    "    def check_interection(self, input_str: str) -> bool:\n",
    "        self.states = self.close_eps(0)\n",
    "        try:\n",
    "            for c in input_str:\n",
    "                self.states = self.get_states_after_transition(self.states, c)\n",
    "            for state in self.states:\n",
    "                if set(self.close_eps(state)).intersection(self.last_states):\n",
    "                    return True\n",
    "            return False\n",
    "        except char_accept:\n",
    "            return False\n",
    "\n",
    "    # Возвращаем алфавит автомата (список символов переходов)\n",
    "    def alphabet(self):\n",
    "        return list(self.table.keys())\n",
    "\n",
    "    # Определяем количество состояний в автомате\n",
    "    def all_states(self):\n",
    "        return len(list(self.table.values())[0])\n",
    "\n",
    "    # Создаем копию автомата (копируем таблицу состояний и финальных состояний)\n",
    "    def copy(self):\n",
    "        new_table = copy.deepcopy(self.table)\n",
    "        new_actual = copy.deepcopy(self.last_states)\n",
    "        return NDFA(new_table, new_actual)\n",
    "\n",
    "    # Рисуем граф, представляющий автомат (используем библиотеку pygraphviz)\n",
    "    # Итерируем по всем строкам таблицы состояний, для каждой комбинации из стартового состояния i и перехода s_val к конечному состоянию k добавляем в граф ребро, а также добавляем символ char на ребро\n",
    "    # Запоминаем в result список финальных состояний и выводим его на экран\n",
    "    def draw_graph(self, title):\n",
    "      G=pgv.AGraph()\n",
    "      G=pgv.AGraph(strict=False,directed=True)\n",
    "      to_append = 'digraph G {size=\"4,4\"; label=\"%s\";'%title\n",
    "      for char, state_list in self.table.items():\n",
    "          for i, s in enumerate(state_list):\n",
    "            for s_val in s:\n",
    "              to_append = to_append + '%s -> %s [label=\"%s\"];'%(i,s_val,char)\n",
    "      to_append = to_append + 'rankdir=LR{ %s [shape=circle]'%self.last_states[0]\n",
    "      to_append = to_append + '}'\n",
    "      to_append = to_append + '}'\n",
    "      A=pgv.AGraph(to_append)\n",
    "      A.layout()\n",
    "      A.layout(prog='dot')\n",
    "      A.draw('automaton.png')\n",
    "      a = Image.open('automaton.png')\n",
    "      a.show()\n",
    "      return to_append, self.last_states"
   ]
  },
  {
   "cell_type": "code",
   "execution_count": 7,
   "metadata": {
    "id": "OwTIxXXVpw4E"
   },
   "outputs": [],
   "source": [
    "# Класс DFA реализует детерминированный конечный автомат\n",
    "class DFA():\n",
    "    def __init__(self, table: data_DFA, last_states: List[int]):\n",
    "        self.table = table           # таблица состояний, символов перехода и новых состояний\n",
    "        self.last_states = last_states  # список финальных состояний\n",
    "        proxy_table = {}\n",
    "        # Создаем структуру данных старшего уровня для таблицы переходов (заменяем структуру списка списков из NDFA на словарь списков)\n",
    "        for char, states in table.items():\n",
    "            proxy_table[char] = [[state] if state is not None else [] for state in states]\n",
    "        # Создаем прокси-объект NDFA для хранения таблицы переходов DFA (таким образом, мы можем использовать все методы NDFA для DFA)\n",
    "        self.proxy = NDFA(proxy_table, last_states)\n",
    "\n",
    "    # Проверяем, может ли автомат принять входную строку input_str (используем метод check_interection прокси-объекта NDFA)\n",
    "    def check_interection(self, input_str: str) -> bool:\n",
    "        return self.proxy.check_interection(input_str)\n",
    "\n",
    "    # Определяем количество состояний в автомате (используем метод all_states прокси-объекта NDFA)\n",
    "    def all_states(self):\n",
    "        return self.proxy.all_states()\n",
    "\n",
    "    # Возвращаем алфавит автомата (список символов переходов) (используем метод alphabet прокси-объекта NDFA)\n",
    "    def alphabet(self):\n",
    "        return self.proxy.alphabet()\n",
    "\n",
    "    # Рисуем граф, представляющий автомат (используем метод draw_graph прокси-объекта NDFA)\n",
    "    def draw_graph(self, title):\n",
    "        return self.proxy.draw_graph(title)"
   ]
  },
  {
   "cell_type": "code",
   "execution_count": 8,
   "metadata": {
    "id": "NyT0PoIYx-tT"
   },
   "outputs": [],
   "source": [
    "class Generator:\n",
    "  # Функция инициализации класса. В ней определяются начальные значения переменных и вызывается функция создания детерминированного автомата (DFA)\n",
    "  def __init__(self, regex):\n",
    "      # Алфавит символов\n",
    "      self.alphabet = []\n",
    "      # Состояния автомата.\n",
    "      self.states = []\n",
    "      # Регулярное выражение, для которого создается автомат\n",
    "      self.regex = regex\n",
    "      # Операции – знаки, использующиеся в регулярном выражении\n",
    "      self.operations = {'*': self.multiply, '+': self.plus, '|': self.alternate, ',': self.concatenate, '?': self.optional}\n",
    "      # Приоритеты операций\n",
    "      self.priorities = {'|': 0, ',': 1, '*': 2, '+': 2, '?': 2}\n",
    "      # Начальное состояние автомата\n",
    "      self.current_state = 0\n",
    "      # Функция перехода между состояниями автомата\n",
    "      self.transition = []\n",
    "      # Пустые переходы\n",
    "      self.empty_transitions = []\n",
    "      # Создание детерминированного автомата\n",
    "      self.dfa = self.dfa_create(regex)\n",
    "      # Финальное состояние автомата\n",
    "      self.final_state = self.states[-1]\n",
    "\n",
    "  def concatenate(self, A, B):\n",
    "    # Объединение двух автоматов\n",
    "    merged = self.merge_tables(A, B)\n",
    "    # Добавляем пустые переходы от всех конечных состояний автомата A к состояниям автомата B\n",
    "    for start in A.last_states:\n",
    "        merged.transition(start, 'ε', A.all_states())\n",
    "    # Находим все конечные состояния полученного автомата\n",
    "    merged.last_states = [s + A.all_states() for s in B.last_states]\n",
    "    return merged\n",
    "\n",
    "  def alternate(self, A, B):\n",
    "      # Сливаем таблицы переходов автоматов A и B\n",
    "      merged = self.merge_tables(A, B)\n",
    "\n",
    "      # Сдвигаем финальные состояния на 1\n",
    "      shifted_finals = [f + 1 for f in merged.last_states]\n",
    "\n",
    "      # Создаем новую таблицу переходов, сдвигая состояния на 1\n",
    "      shifted_table = {}\n",
    "      for char, state_list in merged.table.items():\n",
    "          shifted_table[char] = [[]] + [[state + 1 for state in states] for states in state_list] + [[]]\n",
    "\n",
    "      # Создаем новый автомат\n",
    "      new = NDFA(table=shifted_table, last_states=[])\n",
    "\n",
    "      # Добавляем возможность перехода из начального состояния в состояния 1 и A.all_states() + 1\n",
    "      new.transition(0, 'ε', 1)\n",
    "      new.transition(0, 'ε', A.all_states() + 1)\n",
    "\n",
    "      # Добавляем возможность перехода из финальных состояний в новое финальное состояние\n",
    "      for f in shifted_finals:\n",
    "          new.transition(f, 'ε', new.all_states() - 1)\n",
    "\n",
    "      # Добавляем новое финальное состояние\n",
    "      new.last_states = [new.all_states() - 1]\n",
    "\n",
    "      # Возвращаем новый автомат\n",
    "      return new\n",
    "\n",
    "  # Функция умножения автомата на себя\n",
    "  def multiply(self, A):\n",
    "      # Сдвигаем финальные состояния на 1\n",
    "      shifted_finals = [f + 1 for f in A.last_states]\n",
    "\n",
    "      # Создаем новую таблицу переходов, сдвигая состояния на 1\n",
    "      shifted_table = {}\n",
    "      for char, state_list in A.table.items():\n",
    "          shifted_table[char] = [[]] + [[state + 1 for state in states] for states in state_list] + [[]]\n",
    "\n",
    "      # Создаем новый автомат\n",
    "      new = NDFA(table=shifted_table, last_states=[])\n",
    "\n",
    "      # Добавляем возможность перехода из финальных состояний в новое начальное состояние и новое финальное состояние\n",
    "      for f in shifted_finals:\n",
    "          new.transition(f, 'ε', 1)\n",
    "          new.transition(f, 'ε', new.all_states() - 1)\n",
    "\n",
    "      # Добавляем возможность перехода из начального состояния в состояния 1 и новое финальное состояние\n",
    "      new.transition(0, 'ε', 1)\n",
    "      new.transition(0, 'ε', new.all_states() - 1)\n",
    "\n",
    "      # Добавляем новое финальное состояние\n",
    "      new.last_states = [new.all_states() - 1]\n",
    "\n",
    "      # Возвращаем новый автомат\n",
    "      return new\n",
    "\n",
    "  # Функция объединения автоматов\n",
    "  def plus(self, A):\n",
    "      # Объединяем автомат с умножением автомата на себя\n",
    "      return self.concatenate(A, self.multiply(A))\n",
    "\n",
    "  # Функция создания неопределенности\n",
    "  def optional(self, A):\n",
    "      # Создаем копию автомата A\n",
    "      A_copy = A.copy()\n",
    "\n",
    "      # Добавляем возможность перехода из начального состояния во все финальные состояния автомата A\n",
    "      for f in A_copy.last_states:\n",
    "          A_copy.transition(0, 'ε', f)\n",
    "\n",
    "      # Возвращаем автомат с добавленными переходами\n",
    "      return A_copy\n",
    "\n",
    "  # Функция выполнения операции между двумя автоматами\n",
    "  def perform_operation(self, operation, A, B = None):\n",
    "      if operation == '|':\n",
    "          # Если операция | (альтернатива), то вызываем функцию alternate\n",
    "          self.alternate(A, B)\n",
    "      elif operation == ',':\n",
    "          # Если операция , (конкатенация), то вызываем функцию concatenate\n",
    "          self.concatenate(A, B)\n",
    "      elif operation == '*':\n",
    "          # Если операция * (звезда Клини), то вызываем функцию multiply\n",
    "          self.multiply(A)\n",
    "      elif operation == '+':\n",
    "          # Если операция + (плюс Клини), то вызываем функцию plus\n",
    "          self.plus(A)\n",
    "      elif operation == '?':\n",
    "          # Если операция ? (неопределенность), то вызываем функцию optional\n",
    "          self.optional(A)\n",
    "\n",
    "  # Функция перехода состояния при вводе символа\n",
    "  def transition_to_state_with_input(self, input_value):\n",
    "          if ((self.current_state, input_value) not in self.transition.keys()):\n",
    "              # Если текущее состояние автомата не имеет перехода по заданному символу, проверяем наличие пустого перехода\n",
    "              if self.current_state in self.empty_transitions.keys():\n",
    "                # Если есть пустой переход, переходим по нему\n",
    "                self.current_state = self.empty_transitions[self.current_state]\n",
    "                # Если перехода и по пустому символу нет, то автомат не может принять входную строку\n",
    "                if ((self.current_state, input_value) not in self.transition_function.keys()):\n",
    "                  self.current_state = None;\n",
    "                  return;\n",
    "              # Если у текущего состояния нет переходов ни по заданному символу, ни по пустому символу, то автомат не может принять входную строку\n",
    "              else:\n",
    "                self.current_state = None;\n",
    "                return;\n",
    "          # Если есть переход по данному символу, переходим по нему\n",
    "          self.current_state = self.transition[(self.current_state, input_value)];\n",
    "          return;\n",
    "\n",
    "  def char_check(self, c):\n",
    "    # Проверяем, является ли символ c оператором регулярного выражения\n",
    "    return c not in (list(['*', '+', '|', ',', '?']) + ['(', ')'])\n",
    "\n",
    "  # Функция проверки вводимого слова на принадлежность к языку, заданному автоматом.\n",
    "  def word_check(self, word):\n",
    "        if(self.dfa_check(word, self.states)):\n",
    "          print(\"Passed\")\n",
    "        else:\n",
    "          print(\"Not passed\")\n",
    "\n",
    "  def split(self, DFA, target, splitter, split_char) -> Tuple[set, set]:\n",
    "      # Создание двух новых множеств состояний\n",
    "      R1 = set()\n",
    "      R2 = set()\n",
    "      # Для каждого состояния из целевого множества проверяем, в какое из двух новых множеств оно должно быть добавлено\n",
    "      for v in target:\n",
    "          if DFA.table[split_char][v] in splitter:\n",
    "              R1.add(v)\n",
    "          else:\n",
    "              R2.add(v)\n",
    "      # Возврат двух новых множеств состояний\n",
    "      return R1, R2\n",
    "\n",
    "  def parse_graph(self, to_append):\n",
    "    # Создаем словарь для хранения переходов между состояниями\n",
    "    data_arr = dict()\n",
    "    # Создаем пустой словарь\n",
    "    data_arr_empty = dict()\n",
    "    # Создаем пустой список состояний\n",
    "    states = []\n",
    "    # Создаем списки для хранения начальных и конечных состояний переходов\n",
    "    from_values = []\n",
    "    to_values = []\n",
    "    # Создаем списки пар начальных и конечных состояний\n",
    "    start_pairs = []\n",
    "    final_pairs = []\n",
    "    # Разбиваем строку на части по разделителю ';'\n",
    "    parts = to_append.split(';')\n",
    "    # Находим максимальное количество частей\n",
    "    max = len(parts)\n",
    "\n",
    "\n",
    "    # Проходим по каждой части разделенной строки\n",
    "    for idx, part in enumerate(parts):\n",
    "      # Если это последняя часть, то проходимся по всем начальным и конечным состояниям и заполняем пустой словарь\n",
    "      if idx == max - 1:\n",
    "        for i in range(len(from_values)):\n",
    "            # добавляем пары начальных и конечных состояний\n",
    "            start_pairs.append([from_values[i], to_values[i]])\n",
    "            final_pairs.append([from_values[i], to_values[i]])\n",
    "            data_arr_empty[int(from_values[i])] = int(to_values[i])\n",
    "      # Если это не последняя часть и не первая и не вторая\n",
    "      elif idx != max - 1 and idx != 0 and idx != 1:\n",
    "        # Разбиваем часть на части по пробелу\n",
    "        values = part.split(' ')\n",
    "        # Если количество частей равно 3, то это простой переход\n",
    "        if len(values) == 3:\n",
    "          # Добавляем начальное и конечное состояние в список состояний\n",
    "          fromValue = int(values[0])\n",
    "          states.append(fromValue)\n",
    "          toValue = int(values[2])\n",
    "          states.append(toValue)\n",
    "          # Добавляем начальное и конечное состояние в списки начальных и конечных состояний перехода\n",
    "          from_values.append(fromValue)\n",
    "          to_values.append(toValue)\n",
    "        # Если количество частей равно 4 и уже были добавлены начальные и конечные состояния перехода\n",
    "        elif len(values) == 4 and len(from_values)!= 0:\n",
    "          # Добавляем начальное и конечное состояние в список состояний\n",
    "          fromValue = int(values[0])\n",
    "          states.append(fromValue)\n",
    "          toValue = int(values[2])\n",
    "          states.append(toValue)\n",
    "          # Добавляем начальное и конечное состояние в списки начальных и конечных состояний перехода\n",
    "          from_values.append(fromValue)\n",
    "          to_values.append(toValue)\n",
    "          # Находим метку перехода\n",
    "          label = re.search('\\\"(.+?)\\\"', values[3]).group(1)\n",
    "\n",
    "          # Добавляем начальное и конечное состояние и метку перехода в словарь переходов\n",
    "          for i in range(len(from_values)):\n",
    "            start_pairs.append([from_values[i], to_values[i]])\n",
    "            final_pairs.append([from_values[i], to_values[i]])\n",
    "            data_arr[(int(from_values[i]),label)] = int(to_values[i])\n",
    "          # Очищаем списки начальных и конечных состояний перехода\n",
    "          from_values = []\n",
    "          to_values = []\n",
    "        # Если количество частей равно 4 и еще не были добавлены начальные и конечные состояния перехода\n",
    "        elif len(values) == 4 and len(from_values) == 0:\n",
    "          # Добавляем начальное и конечное состояние в список состояний\n",
    "          fromValue = int(values[0])\n",
    "          states.append(fromValue)\n",
    "          toValue = int(values[2])\n",
    "          states.append(toValue)\n",
    "          # Находим метку перехода\n",
    "          label = re.search('\\\"(.+?)\\\"', values[3]).group(1)\n",
    "          # Добавляем начальное и конечное состояние и метку перехода в словарь переходов\n",
    "          data_arr[(int(fromValue),label)] = int(toValue)\n",
    "          # Очищаем списки начальных и конечных состояний перехода\n",
    "          from_values = []\n",
    "          to_values = []\n",
    "\n",
    "    # Сохраняем словарь переходов\n",
    "    self.transition = data_arr\n",
    "    # Находим все пары начальных и конечных состояний, которые не были соединены ребром\n",
    "    for p1 in start_pairs:\n",
    "      for p2 in final_pairs:\n",
    "        if p1[0] == p2[1] and p1[1] == p2[0]:\n",
    "          data_arr_empty[int(p1[0])] = int(p1[1])\n",
    "          data_arr_empty[int(p1[1])] = int(p1[0])\n",
    "    # Находим все уникальные состояния и сохраняем их в списке состояний\n",
    "    states = sorted(np.unique(np.array(states), axis = 0))\n",
    "    # Сохраняем список состояний автомата\n",
    "    self.states = states\n",
    "    # Сохраняем список конечных состояний автомата\n",
    "    self.accept_states =  states[1:]\n",
    "    # Сохраняем пустые переходы автомата\n",
    "    self.empty_transitions = data_arr_empty\n",
    "\n",
    "  def prepare_regexp(self, regexp: str) -> str:\n",
    "    # Функция для преобразования регулярного выражения для корректного парсинга\n",
    "    if len(regexp) == 0:\n",
    "        return ''\n",
    "    new = []\n",
    "    last = None\n",
    "    for c in regexp:\n",
    "        if last is None:\n",
    "            # если нет предыдущего символа, добавляем текущий символ в новый список\n",
    "            last = c\n",
    "            new.append(c)\n",
    "            continue\n",
    "        if last in ['*', '+', '?'] and c == '(' \\\n",
    "                or last in ['*', '+', '?'] and self.char_check(c) \\\n",
    "                or self.char_check(last) and self.char_check(c) \\\n",
    "                or last == ')' and self.char_check(c) \\\n",
    "                or self.char_check(last) and c == '(':\n",
    "            # Если предыдущий символ является оператором регулярного выражения и текущий символ соответствует определенным правилам, то добавляем запятую\n",
    "            new.append(',')\n",
    "        new.append(c)\n",
    "        last = c\n",
    "    return ''.join(new)\n",
    "\n",
    "  # Функция слияния таблиц переходов двух автоматов\n",
    "  def merge_tables(self, A, B):\n",
    "      # Создаем объединенный список ключей таблиц переходов автоматов A и B\n",
    "      keys = set(list(A.table.keys()) + list(B.table.keys()))\n",
    "\n",
    "      # Создаем список новых финальных состояний, сдвигая их на A.all_states()\n",
    "      new_actual = [state + A.all_states() for state in B.last_states]\n",
    "      new_actual.extend(A.last_states)\n",
    "\n",
    "      # Создаем новую таблицу переходов, сдвигая состояния в обоих автоматах на 1\n",
    "      new_table = {}\n",
    "      for k in keys:\n",
    "          new_row = []\n",
    "          if k in A.table:\n",
    "              new_row.extend(A.table[k])\n",
    "          else:\n",
    "              new_row.extend([[] for _ in range(A.all_states())])\n",
    "          if k in B.table:\n",
    "              new_row.extend([[s + A.all_states() for s in states] for states in B.table[k]])\n",
    "          else:\n",
    "              new_row.extend([[] for _ in range(B.all_states())])\n",
    "          new_table[k] = new_row\n",
    "\n",
    "      # Возвращаем новый автомат с объединенными таблицами переходов и финальными состояниями\n",
    "      return NDFA(table=new_table, last_states=new_actual)\n",
    "\n",
    "  def initial_NDFA(self, actual_string):\n",
    "      # Создание пустого словаря для хранения переходов\n",
    "      table: Dict[str, List[List[int]]] = {}\n",
    "      # Поиск индекса и значения каждого символа в строке\n",
    "      for i, c in enumerate(actual_string):\n",
    "          # Если символ еще не добавлен в таблицу, то добавить его и создать пустую ячейку для каждого возможного перехода\n",
    "          if c not in table:\n",
    "              table[c] = [[] for _ in range(len(actual_string) + 1)]\n",
    "          # Заполнить пустую ячейку текущего символа значением i+1\n",
    "          table[c][i].append(i + 1)\n",
    "      # Создание НКА с полученной таблицей и единственным завершающим состоянием\n",
    "      return NDFA(table=table, last_states=[len(actual_string)])\n",
    "\n",
    "  def create_NDFA(self, regexp):\n",
    "      # Создание пустых стеков для операций и автоматов, а также буфера для хранения символов регулярного выражения\n",
    "      op_stack = []\n",
    "      automata_stack = []\n",
    "      buffer = ''\n",
    "\n",
    "      # Вспомогательная функция для обработки операций с различными приоритетами\n",
    "      def processing(priority=-1):\n",
    "          while len(op_stack) != 0 \\\n",
    "                  and op_stack[-1] != '(' \\\n",
    "                  and (op_stack[-1] not in ['*', '+', '|', ',', '?'] or self.priorities[op_stack[-1]] > priority):\n",
    "              op = op_stack[-1]\n",
    "              if op in ['|', ',']:\n",
    "                  automata_stack.append(self.operations[op](automata_stack[-2], automata_stack[-1]))\n",
    "                  automata_stack.pop(-2)\n",
    "                  automata_stack.pop(-2)\n",
    "                  op_stack.pop()\n",
    "              elif op in ['*', '+', '?']:\n",
    "                  automata_stack.append(self.operations[op](automata_stack[-1]))\n",
    "                  automata_stack.pop(-2)\n",
    "                  op_stack.pop()\n",
    "          if priority == -1 and len(op_stack) != 0 and op_stack[-1] == '(':\n",
    "              op_stack.pop()\n",
    "\n",
    "      # Подготовка регулярного выражения (удаление пробелов и добавление явных операций конкатенации)\n",
    "      regexp = self.prepare_regexp(regexp)\n",
    "\n",
    "      # Цикл по всем символам регулярного выражения\n",
    "      for c in regexp:\n",
    "          if c in list(['*', '+', '|', ',', '?']) + ['(', ')']:\n",
    "              # Если текущий символ - оператор или скобка, то добавить в создание автомата все символы из буфера\n",
    "              if buffer != '':\n",
    "                  automata_stack.append(self.initial_NDFA(buffer))\n",
    "              buffer = ''\n",
    "          if c in ['*', '+', '|', ',', '?']:\n",
    "              # Если текущий символ - оператор, то обработать стек операций и автоматов\n",
    "              if len(op_stack) == 0 or op_stack[-1] in ['(', ')'] or self.priorities[op_stack[-1]] < self.priorities[c]:\n",
    "                  op_stack.append(c)\n",
    "              else:\n",
    "                  processing(self.priorities[c])\n",
    "                  op_stack.append(c)\n",
    "          elif c == '(':\n",
    "              op_stack.append('(')\n",
    "          elif c == ')':\n",
    "              processing()\n",
    "          else:\n",
    "              # Добавление символа в буфер\n",
    "              buffer += c\n",
    "\n",
    "      # Добавление в создание автомата все символы из буфера\n",
    "      if buffer != '':\n",
    "          automata_stack.append(self.initial_NDFA(buffer))\n",
    "      # Обработка оставшихся операций и автоматов\n",
    "      processing()\n",
    "      # Возвращение полученного автомата\n",
    "      return automata_stack[-1]\n",
    "\n",
    "  def convert_NDFA_to_DFA(self, NDFA):\n",
    "      # Создание списка связей между состояниями и списка новых состояний\n",
    "      links = []\n",
    "      newStates = [set(NDFA.close_eps(0))]\n",
    "      visitedStates = []\n",
    "      alphabet = [x for x in list(NDFA.table.keys()) if x != 'ε']\n",
    "      # Цикл создания новых состояний\n",
    "      while len(newStates) > 0:\n",
    "          tmp = newStates.pop()\n",
    "          if tmp in visitedStates:\n",
    "              continue\n",
    "          visitedStates.append(tmp)\n",
    "          # Поиск всех состояний, в которые можно перейти из текущего состояния по каждому символу алфавита\n",
    "          for char in alphabet:\n",
    "              newTmp = set(NDFA.get_states_after_transition(tmp, char))\n",
    "              if len(newTmp) != 0:\n",
    "                  newStates.append(newTmp)\n",
    "                  links.append((tmp, char, newTmp))\n",
    "      # Форматирование связей между состояниями\n",
    "      formatted_links = []\n",
    "      for link in links:\n",
    "          formatted_links.append((visitedStates.index(link[0]), link[1], visitedStates.index(link[2])))\n",
    "      links = formatted_links\n",
    "      # Поиск новых завершающих состояний в полученном автомате\n",
    "      old_final = set(NDFA.last_states)\n",
    "      new_actual = [i for i, s in enumerate(visitedStates) if s.intersection(old_final)]\n",
    "      new_table = {}\n",
    "      # Создание новой таблицы переходов\n",
    "      for k in alphabet:\n",
    "          new_table[k] = [None for _ in enumerate(visitedStates)]\n",
    "      for link in links:\n",
    "          new_table[link[1]][link[0]] = link[2]\n",
    "      # Создание нового ДКА (детерминированного конечного автомата) на основе полученной таблицы и завершающих состояний\n",
    "      return DFA(table=new_table, last_states=new_actual)\n",
    "\n",
    "  def minimize_fda(self, fda):\n",
    "      # Инициализация множеств\n",
    "      # Одно множество - множество принимающих состояний финального Автомата\n",
    "      sets = [{*fda.last_states}]\n",
    "\n",
    "      # Второе множество - множество непринимающих состояний\n",
    "      non_final = {*list(range(fda.all_states()))}.difference(fda.last_states)\n",
    "      if len(non_final) > 0:\n",
    "          sets.append(non_final)\n",
    "\n",
    "      # Инициализируем очередь\n",
    "      queue = []\n",
    "      for c in fda.alphabet():\n",
    "          for s in sets:\n",
    "              queue.append((s, c))\n",
    "\n",
    "      # Процесс декомпозиции для минимизации\n",
    "      while len(queue) > 0:\n",
    "          # Извлекаем элемент из очереди\n",
    "          splitter, char = queue.pop(0)\n",
    "          for s in sets:\n",
    "              # Расщепляем состояния в множества\n",
    "              R1, R2 = self.split(fda, s, splitter, char)\n",
    "              if len(R1) > 0 and len(R2) > 0:\n",
    "                  # Удаляем предыдущее множество и добавляем новые множества\n",
    "                  sets.remove(s)\n",
    "                  sets.extend([R1, R2])\n",
    "\n",
    "                  # Работа с очередью\n",
    "                  if (s, char) in queue:\n",
    "                      queue.remove((s, char))\n",
    "                      queue.append((R1, char))\n",
    "                      queue.append((R2, char))\n",
    "                  else:\n",
    "                      if len(R1) < len(R2):\n",
    "                          queue.append((R1, char))\n",
    "                      else:\n",
    "                          queue.append((R2, char))\n",
    "\n",
    "      # Первое множество - множество таких состояний, что 0 в этом множестве\n",
    "      first_state_index = [sets.index(s) for s in sets if 0 in s][0]\n",
    "      first_state = sets.pop(first_state_index)\n",
    "      sets.insert(0, first_state)\n",
    "\n",
    "      # Создание новой таблицы и заполнение ее данными\n",
    "      all_states = len(sets)\n",
    "      new_table = {k: [None] * all_states for k in fda.alphabet()}\n",
    "      self.alphabet = fda.alphabet()\n",
    "      self.start_state = 0\n",
    "      for i, s in enumerate(sets):\n",
    "          for v in s:\n",
    "              for c in fda.alphabet():\n",
    "                  new_indexes = [sets.index(s) for s in sets if fda.table[c][v] in s]\n",
    "                  new_table[c][i] = None if len(new_indexes) == 0 else new_indexes[0]\n",
    "\n",
    "      # Новые принимающие состояния\n",
    "      new_actual = [sets.index(s) for s in sets if s.intersection(fda.last_states)]\n",
    "\n",
    "      # Создание и возвращение нового DFA\n",
    "      return DFA(table=new_table, last_states=new_actual)\n",
    "\n",
    "  # Проверка, является ли текущее состояние автомата финальным\n",
    "  def in_accept_state(self, accept_states):\n",
    "          return self.current_state in accept_states;\n",
    "\n",
    "  # Проверка входной строки на принадлежность языку, заданному автоматом.\n",
    "  def dfa_check(self, input_list, accept_states):\n",
    "          # Устанавливаем текущее состояние автомата.\n",
    "          self.current_state = self.start_state;\n",
    "          # Переходим от состояния к состоянию в зависимости от входных символов.\n",
    "          for inp in input_list:\n",
    "              self.transition_to_state_with_input(inp);\n",
    "              continue;\n",
    "          # Проверяем, является ли текущее состояние автомата финальным.\n",
    "          return self.in_accept_state(self.last_states);\n",
    "\n",
    "\n",
    "  # Функция создания детерминированного автомата для регулярного выражения.\n",
    "  def dfa_create(self, regexp):\n",
    "    # Создание недетерминированного автомата.\n",
    "    NDFA = self.create_NDFA(regexp)\n",
    "    # Построение графа недетерминированного автомата.\n",
    "    print(\"NDFA\")\n",
    "    NDFA.draw_graph(self.regex)\n",
    "    # Преобразование недетерминированного автомата в детерминированный автомат.\n",
    "    fda = self.convert_NDFA_to_DFA(NDFA)\n",
    "    # Построение графа детерминированного автомата.\n",
    "    print(\"FDA\")\n",
    "    fda.draw_graph(self.regex)\n",
    "    # Преобразование детерминированного автомата в минимальный детерминированный автомат.\n",
    "    min_fda = self.minimize_fda(fda)\n",
    "    # Построение графа минимального детерминированного автомата.\n",
    "    print(\"LAST\")\n",
    "    graph, last_states = min_fda.draw_graph(self.regex)\n",
    "    # Запоминаем финальные состояния автомата.\n",
    "    self.last_states = last_states\n",
    "    # Парсим граф автомата.\n",
    "    self.parse_graph(graph)\n",
    "\n",
    "\n",
    "  def print_values(dfa):\n",
    "      # Вывод состояний, алфавита и принимающих состояний\n",
    "      print(\"states\")\n",
    "      print(dfa.states)\n",
    "      print('alphabet')\n",
    "      print(dfa.alphabet)\n",
    "      print('accept_states')\n",
    "      print(dfa.accept_states)\n",
    "\n",
    "      # Вывод номера умножаемого состояния, таблицы переходов и пустых переходов\n",
    "      print('start_state')\n",
    "      print(dfa.start_state)\n",
    "      print('transition')\n",
    "      print(dfa.transition)\n",
    "      print('empty_transition')\n",
    "      print(dfa.empty_transitions)\n",
    "\n"
   ]
  },
  {
   "cell_type": "code",
   "execution_count": 9,
   "metadata": {
    "colab": {
     "base_uri": "https://localhost:8080/",
     "height": 472
    },
    "id": "ZfZQZ5wMA5OK",
    "outputId": "2e7d388d-8730-4144-f129-b39d144a8ccd"
   },
   "outputs": [
    {
     "name": "stdout",
     "output_type": "stream",
     "text": [
      "NDFA\n"
     ]
    },
    {
     "data": {
      "image/png": "[encoded data removed]",
      "text/plain": [
       "<PIL.PngImagePlugin.PngImageFile image mode=RGBA size=384x82 at 0x7F19B42965C0>"
      ]
     },
     "metadata": {},
     "output_type": "display_data"
    },
    {
     "name": "stdout",
     "output_type": "stream",
     "text": [
      "FDA\n"
     ]
    },
    {
     "data": {
      "image/png": "[encoded data removed]",
      "text/plain": [
       "<PIL.PngImagePlugin.PngImageFile image mode=RGBA size=384x161 at 0x7F19B4287FD0>"
      ]
     },
     "metadata": {},
     "output_type": "display_data"
    },
    {
     "name": "stdout",
     "output_type": "stream",
     "text": [
      "LAST\n"
     ]
    },
    {
     "data": {
      "image/png": "[encoded data removed]",
      "text/plain": [
       "<PIL.PngImagePlugin.PngImageFile image mode=RGB size=384x160 at 0x7F19C42D2DA0>"
      ]
     },
     "metadata": {},
     "output_type": "display_data"
    }
   ],
   "source": [
    "example1 = Generator('a+b*c')"
   ]
  },
  {
   "cell_type": "code",
   "execution_count": 10,
   "metadata": {
    "colab": {
     "base_uri": "https://localhost:8080/"
    },
    "id": "znyiOxC5CiU-",
    "outputId": "d8dfd170-365e-440c-ef09-73339db69a8b"
   },
   "outputs": [
    {
     "name": "stdout",
     "output_type": "stream",
     "text": [
      "Not passed\n"
     ]
    }
   ],
   "source": [
    "example1.word_check('aab')"
   ]
  },
  {
   "cell_type": "code",
   "execution_count": 11,
   "metadata": {
    "colab": {
     "base_uri": "https://localhost:8080/"
    },
    "id": "ioSnAbyStLfC",
    "outputId": "b6a2e9d6-34a3-4e4d-e63d-86af6c74eac6"
   },
   "outputs": [
    {
     "name": "stdout",
     "output_type": "stream",
     "text": [
      "Not passed\n"
     ]
    }
   ],
   "source": [
    "example1.word_check('c')"
   ]
  },
  {
   "cell_type": "code",
   "execution_count": 12,
   "metadata": {
    "colab": {
     "base_uri": "https://localhost:8080/"
    },
    "id": "cWVMGwTHfWEG",
    "outputId": "82438fcb-d1ed-4abb-e9de-9d7dddf7b91e"
   },
   "outputs": [
    {
     "name": "stdout",
     "output_type": "stream",
     "text": [
      "Passed\n"
     ]
    }
   ],
   "source": [
    "example1.word_check('abc')"
   ]
  },
  {
   "cell_type": "code",
   "execution_count": 13,
   "metadata": {
    "colab": {
     "base_uri": "https://localhost:8080/"
    },
    "id": "UFDFSIEICiy5",
    "outputId": "e70c57f3-1371-46c4-9d6b-de3916071f15"
   },
   "outputs": [
    {
     "name": "stdout",
     "output_type": "stream",
     "text": [
      "Passed\n"
     ]
    }
   ],
   "source": [
    "example1.word_check('aabc')\n"
   ]
  },
  {
   "cell_type": "code",
   "execution_count": 14,
   "metadata": {
    "colab": {
     "base_uri": "https://localhost:8080/"
    },
    "id": "SzGZvQ8vCirn",
    "outputId": "6b5197b2-5218-4aef-b50e-5568e3315392"
   },
   "outputs": [
    {
     "name": "stdout",
     "output_type": "stream",
     "text": [
      "Not passed\n"
     ]
    }
   ],
   "source": [
    "example1.word_check('cba')"
   ]
  },
  {
   "cell_type": "code",
   "execution_count": 15,
   "metadata": {
    "colab": {
     "base_uri": "https://localhost:8080/"
    },
    "id": "UcRXLnE8Cin3",
    "outputId": "109c27bf-d6da-489b-c773-5ef0ae3f13f2"
   },
   "outputs": [
    {
     "name": "stdout",
     "output_type": "stream",
     "text": [
      "Not passed\n"
     ]
    }
   ],
   "source": [
    "example1.word_check('cab')"
   ]
  },
  {
   "cell_type": "code",
   "execution_count": 16,
   "metadata": {
    "colab": {
     "base_uri": "https://localhost:8080/"
    },
    "id": "Eh4-uJhg23Hg",
    "outputId": "df92b7f7-a414-45ff-a3c9-41f989388ca8"
   },
   "outputs": [
    {
     "name": "stdout",
     "output_type": "stream",
     "text": [
      "Passed\n"
     ]
    }
   ],
   "source": [
    "example1.word_check('abbbbbc')"
   ]
  }
 ],
 "metadata": {
  "colab": {
   "provenance": []
  },
  "kernelspec": {
   "display_name": "Python 3 (ipykernel)",
   "language": "python",
   "name": "python3"
  },
  "language_info": {
   "codemirror_mode": {
    "name": "ipython",
    "version": 3
   },
   "file_extension": ".py",
   "mimetype": "text/x-python",
   "name": "python",
   "nbconvert_exporter": "python",
   "pygments_lexer": "ipython3",
   "version": "3.9.16"
  }
 },
 "nbformat": 4,
 "nbformat_minor": 1
}
